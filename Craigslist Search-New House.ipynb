{
 "cells": [
  {
   "cell_type": "code",
   "execution_count": 12,
   "metadata": {},
   "outputs": [],
   "source": [
    "#import the required packages/libs\n",
    "from craigslist import CraigslistForSale, CraigslistHousing \n",
    "import pandas as pd\n",
    "import webbrowser\n",
    "import smtplib\n",
    "import time\n",
    "class color:\n",
    "   BOLD = '\\033[1m'\n",
    "   END = '\\033[0m'"
   ]
  },
  {
   "cell_type": "code",
   "execution_count": 13,
   "metadata": {},
   "outputs": [],
   "source": [
    "#house_1 = CraigslistHousing(site='philadelphia', category='housing', \n",
    "#                         filters={'zip_code':19103,'search_distance':1,'min_bedrooms':2,'min_price': 0, 'max_price': 2700, \n",
    "#                                  'min_ft2':1200,'cats_ok':True,'query':'parking'})\n",
    "#house.show_filters()\n",
    "\n",
    "#for x in house.get_results():\n",
    "#    print('Posted: {} Price: {} Link: {}'.format(x['datetime'], x['price'], x['url']))"
   ]
  },
  {
   "cell_type": "code",
   "execution_count": 14,
   "metadata": {},
   "outputs": [],
   "source": [
    "already_checked = [] #hold the list of already emailed listings\n",
    "temp = [] #store the list of urls to later be added to already_checked\n",
    "email_msg = [] #store the set of listings from the search to be emailed at the end of the loops of calls\n",
    "\n",
    "#read in existing postings\n",
    "f = open(\"searched.txt\", \"r\")\n",
    "already_checked = f.readlines()\n",
    "f.close()\n",
    "# remove whitespace characters like `\\n` at the end of each line\n",
    "already_checked = [x.strip() for x in already_checked] \n",
    "\n",
    "\n",
    "#define the send email function, so that lists of results can be sent via email\n",
    "def send_email(body, sender, recipients, subject):\n",
    "    msg = 'Subject: {}\\n\\n{}'.format(subject, body)\n",
    "    smtpserver = 'smtp.gmail.com:587'\n",
    "    try:\n",
    "        server = smtplib.SMTP(smtpserver)\n",
    "        server.ehlo()\n",
    "        server.starttls()\n",
    "        server.login('thefifthfox0@gmail.com', 'computerfox')\n",
    "        server.sendmail(sender, recipients, msg)\n",
    "    except Exception as e:\n",
    "        print(e)\n",
    "\n",
    "#Search craigslist for cars and perform the necessary functions based on the parameters provided\n",
    "def search_craigslist_for_houses(zipcode,openlinks,email,printheader):\n",
    "    \n",
    "    #Declare some initial variables\n",
    "    msg = [] \n",
    "    \n",
    "    #Pull data based on parameters\n",
    "    house_1 = CraigslistHousing(site='philadelphia', category='housing', \n",
    "                         filters={'zip_code':zipcode,'search_distance':1,'min_bedrooms':2,'min_price': 0, 'max_price': 2700, \n",
    "                                  'min_ft2':1200,'cats_ok':True,'query':'parking'})\n",
    "    #Print title if desired\n",
    "    if printheader == True:\n",
    "        header = ''\n",
    "        header = str(zipcode) + ' Apartments/Houses'\n",
    "        print(header)\n",
    "    \n",
    "    #Loop through the results\n",
    "    for x in house_1.get_results():\n",
    "        \n",
    "        #Also only return results that are not in the already_checked list\n",
    "        if (x['url'] in already_checked) == False:\n",
    "            msg.append('Posted: {} Price: {} Link: {}'.format(x['datetime'], x['price'], x['url']))\n",
    "            email_msg.append('Posted: {} Price: {} Link: {}'.format(x['datetime'], x['price'], x['url'])) \n",
    "            #Temporary holding of URL from the search results as a list to use as filter against the already_checked list\n",
    "            temp.append(x['url'])\n",
    "            \n",
    "            #Open urls in webbrowser if desired\n",
    "            if openlinks == True:\n",
    "                webbrowser.open(x['url'])\n",
    "    \n",
    "    #Send email with search results if desired and search results exist\n",
    "    if email == True and len(msg) > 0:\n",
    "        send_email('\\n'.join(msg), 'thefifthfox0@gmail.com', ['Qman2386@gmail.com'], header)\n",
    "    \n",
    "    #Print out the search results to the console \n",
    "    for _ in msg:\n",
    "        print(_)"
   ]
  },
  {
   "cell_type": "code",
   "execution_count": 15,
   "metadata": {},
   "outputs": [
    {
     "name": "stdout",
     "output_type": "stream",
     "text": [
      "19103 Apartments/Houses\n",
      "19104 Apartments/Houses\n",
      "It took approx \u001b[1m0 minutes \u001b[0mto run this program\n"
     ]
    }
   ],
   "source": [
    "#Search all sites for data\n",
    "start = time.clock()\n",
    "search_craigslist_for_houses(19103,False,True,True)\n",
    "search_craigslist_for_houses(19104,False,True,True)\n",
    "end = time.clock()\n",
    "print(\"It took approx \" + color.BOLD + str(round((end-start)/60)) + \" minutes \" + color.END + \"to run this program\")\n",
    "\n",
    "#append postings to the file\n",
    "with open(\"searched.txt\", 'a+') as file_handler:\n",
    "    for item in temp:\n",
    "        file_handler.write(\"{}\\n\".format(item))"
   ]
  },
  {
   "cell_type": "code",
   "execution_count": null,
   "metadata": {},
   "outputs": [],
   "source": []
  }
 ],
 "metadata": {
  "kernelspec": {
   "display_name": "Python 3",
   "language": "python",
   "name": "python3"
  },
  "language_info": {
   "codemirror_mode": {
    "name": "ipython",
    "version": 3
   },
   "file_extension": ".py",
   "mimetype": "text/x-python",
   "name": "python",
   "nbconvert_exporter": "python",
   "pygments_lexer": "ipython3",
   "version": "3.6.4"
  }
 },
 "nbformat": 4,
 "nbformat_minor": 2
}
