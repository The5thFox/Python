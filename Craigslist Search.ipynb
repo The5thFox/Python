{
 "cells": [
  {
   "cell_type": "code",
   "execution_count": 2,
   "metadata": {},
   "outputs": [],
   "source": [
    "#import the required packages/libs\n",
    "from craigslist import CraigslistForSale\n",
    "import pandas as pd\n",
    "import webbrowser\n",
    "import smtplib\n",
    "import time\n",
    "class color:\n",
    "   BOLD = '\\033[1m'\n",
    "   END = '\\033[0m'"
   ]
  },
  {
   "cell_type": "code",
   "execution_count": 3,
   "metadata": {},
   "outputs": [],
   "source": [
    "#define the send email function, so that lists of results can be sent via email\n",
    "def send_email(body, sender, recipients, subject):\n",
    "    msg = 'Subject: {}\\n\\n{}'.format(subject, body)\n",
    "    smtpserver = 'smtp.gmail.com:587'\n",
    "    try:\n",
    "        server = smtplib.SMTP(smtpserver)\n",
    "        server.ehlo()\n",
    "        server.starttls()\n",
    "        server.login('thefifthfox0@gmail.com', 'computerfox')\n",
    "        server.sendmail(sender, recipients, msg)\n",
    "    except Exception as e:\n",
    "        print(e)\n",
    "\n",
    "#Search craigslist for cars and perform the necessary functions based on the parameters provided\n",
    "def search_craigslist_for_cars(loc,car,minyear,maxyear,minprice,maxprice,openlinks,email,printheader):\n",
    "    \n",
    "    #Declare some initial variables\n",
    "    msg = []\n",
    "    already_checked = ['https://anchorage.craigslist.org/cto/d/1978-porsche-911-sc-only-5000/6680836329.html','https://austin.craigslist.org/cto/d/1976-porsche-911-convertible/6664202810.html','https://bakersfield.craigslist.org/cto/d/911-porsche-convertible/6686260433.html','https://bham.craigslist.org/cto/d/1983-porsche-911-bridgestone/6687907347.html','https://boise.craigslist.org/cto/d/rare-1970-porsche-911-body/6649790854.html','https://charleston.craigslist.org/cto/d/1986-porsche-911-conv/6649734485.html','https://cleveland.craigslist.org/cto/d/1983-porsche-911-goodyear/6687914825.html','https://columbia.craigslist.org/cto/d/1983-burgundy-porsche-911/6687196348.html','https://daytona.craigslist.org/cto/d/1986-porsche-911-carrera-conv/6649761594.html','https://eastoregon.craigslist.org/cto/d/early-porsche-911-project-wtb/6679741734.html','https://fargo.craigslist.org/cto/d/1983-porsche-911-garaged-with/6682299789.html','https://flint.craigslist.org/cto/d/1983-porsche-911-burgundy/6687285576.html','https://grandrapids.craigslist.org/cto/d/porsche-911-project-or-fixer/6685967106.html','https://greenville.craigslist.org/cto/d/1986-porsche-911-conv/6649701036.html','https://houston.craigslist.org/ctd/d/1982-porsche-911-targa-1/6678163728.html','https://hudsonvalley.craigslist.org/cto/d/1982-porsche-911-slant-nose/6681725992.html','https://inlandempire.craigslist.org/cto/d/1983-porsche-911-driver-airbag/6687979723.html','https://lansing.craigslist.org/cto/d/911-porsche-looking-for-older/6687104481.html','https://lasvegas.craigslist.org/cto/d/1987-porsche-911-carrera/6687002558.html','https://lasvegas.craigslist.org/cto/d/1969-porsche-911-baja-race/6668904623.html','https://lasvegas.craigslist.org/cto/d/1977-porsche-911-sc-targa/6680151081.html','https://monterey.craigslist.org/cto/d/red-1977-porsche-911-sc-targa/6680149748.html','https://monterey.craigslist.org/ctd/d/1984-porsche-911-cab-guards/6677467366.html','https://nmi.craigslist.org/cto/d/69-porsche-911-irish-green/6656476893.html','https://norfolk.craigslist.org/cto/d/1972-porsche-911/6663694575.html','https://orlando.craigslist.org/cto/d/1991-porsche-911-carrera-2/6680295712.html','https://pensacola.craigslist.org/cto/d/1983-porsche-911-manual/6684020499.html','https://philadelphia.craigslist.org/ctd/d/1982-porsche-911-targa-1/6678187037.html','https://philadelphia.craigslist.org/cto/d/1974-porsche-911-targa/6670015872.html','https://reno.craigslist.org/cto/d/porsche-911/6683051897.html','https://sacramento.craigslist.org/cto/d/1967-porsche-911/6682711263.html']\n",
    "    \n",
    "    #Pull data based on parameters\n",
    "    cars = CraigslistForSale(site=loc, area='', category='cars-trucks', \n",
    "                         filters={'min_price': minprice, 'max_price': maxprice, 'min_year':minyear, 'max_year':maxyear,'query':car})\n",
    "    \n",
    "    #Print title if desired\n",
    "    if printheader == True:\n",
    "        header = ''\n",
    "        header = str(cars.filters['min_auto_year']) + ' till ' + str(cars.filters['max_auto_year']) + ' ' +cars.filters['query'] + ' between ' + str(cars.filters['min_price']) + ' and ' + str(cars.filters['max_price']) + ' in the ' + loc + ' area '\n",
    "        print(header)\n",
    "    \n",
    "    #Loop through the results\n",
    "    for x in cars.get_results():\n",
    "        \n",
    "        #Temporary holding of URL from the search results as a list to use as filter against the already_checked list\n",
    "        temp = []\n",
    "        temp.append(x['url'])\n",
    "        \n",
    "        #Only return results if url contains one of the words from the search critera AND\n",
    "        #Also only return results that are not in the already_checked list\n",
    "        if (len(set(car.split(' ')) & set( x['url'].split('/')[5].split('-'))) > 1) and (len(set(already_checked).intersection(temp)) == 0):\n",
    "            msg.append('Posted: {} Price: {} Link: {}'.format(x['datetime'], x['price'], x['url']))\n",
    "            \n",
    "            #Open urls in webbrowser if desired\n",
    "            if openlinks == True:\n",
    "                webbrowser.open(x['url'])\n",
    "    \n",
    "    #Send email with search results if desired and search results exist\n",
    "    if email == True and len(msg) > 0:\n",
    "        send_email('\\n'.join(msg), 'thefifthfox0@gmail.com', ['Qman2386@gmail.com'], header)\n",
    "    \n",
    "    #Print out the search results to the console \n",
    "    for _ in msg:\n",
    "        print(_)"
   ]
  },
  {
   "cell_type": "code",
   "execution_count": 6,
   "metadata": {},
   "outputs": [
    {
     "name": "stdout",
     "output_type": "stream",
     "text": [
      "1900 till 1998 porsche 911 between 0 and 30000 in the philadelphia area \n",
      "2013 till 2018 focus impreza mazda3 tsx gti accord miata corolla fit sonic between 900 and 6000 in the philadelphia area \n"
     ]
    }
   ],
   "source": [
    "#solve for if link contains a word with no space like \n",
    "#send email based on individual location search or all sites\n",
    "search_craigslist_for_cars('philadelphia','porsche 911',1900,1998,0,30000,False,False,True)\n",
    "search_craigslist_for_cars('philadelphia','focus impreza mazda3 tsx gti accord miata corolla fit sonic',2013,2018,900,6000,False,False,True)"
   ]
  },
  {
   "cell_type": "code",
   "execution_count": null,
   "metadata": {},
   "outputs": [],
   "source": [
    "sites = ['abilene','akroncanton','albany','albanyga','albuquerque','allentown','altoona','amarillo','ames','anchorage','annapolis','annarbor','appleton','asheville','ashtabula','athensga','athensohio','atlanta','auburn','augusta','austin','bakersfield','baltimore','batonrouge','battlecreek','beaumont','bellingham','bemidji','bend','bgky','bham','bigbend','billings','binghamton','bismarck','blacksburg','bloomington','bn','boise','boone','boston','boulder','bozeman','brainerd','brownsville','brunswick','buffalo','butte','capecod','carbondale','catskills','cedarrapids','cenla','centralmich','cfl','chambana','chambersburg','charleston','charlestonwv','charlotte','charlottesville','chattanooga','chautauqua','chicago','chico','chillicothe','cincinnati','clarksville','cleveland','clovis','cnj','collegestation','columbia','columbiamo','columbus','columbusga','cookeville','corpuschristi','corvallis','cosprings','csd','dallas','danville','dayton','daytona','decatur','delaware','delrio','denver','desmoines','detroit','dothan','dubuque','duluth','eastco','easternshore','eastidaho','eastky','eastnc','eastoregon','easttexas','eauclaire','elko','elmira','elpaso','enid','erie','eugene','evansville','fairbanks','fargo','farmington','fayar','fayetteville','fingerlakes','flagstaff','flint','florencesc','fortcollins','fortdodge','fortlauderdale','fortmyers','fortsmith','fortwayne','frederick','fredericksburg','fresno','gadsden','gainesville','galveston','glensfalls','goldcountry','grandforks','grandisland','grandrapids','greatfalls','greenbay','greensboro','greenville','gulfport','hanford','harrisburg','harrisonburg','hartford','hattiesburg','helena','hickory','hiltonhead','holland','honolulu','houma','houston','hudsonvalley','humboldt','huntington','huntsville','miami','imperial','indianapolis','inlandempire','iowacity','ithaca','jackson','jacksontn','jacksonville','janesville','jerseyshore','jonesboro','joplin','juneau','jxn','kalamazoo','kalispell','kansascity','kenai','keys','killeen','kirksville','klamath','knoxville','kokomo','kpr','ksu','lacrosse','lafayette','lakecharles','lakecity','lakeland','lancaster','lansing','laredo','lasalle','lascruces','lasvegas','lawrence','lawton','lewiston','lexington','limaohio','lincoln','littlerock','logan','longisland','losangeles','louisville','loz','lubbock','lynchburg','macon','madison','maine','mankato','mansfield','marshall','martinsburg','masoncity','mattoon','mcallen','meadville','medford','memphis','mendocino','merced','meridian','miami','milwaukee','minneapolis','missoula','mobile','modesto','mohave','monroe','monroemi','montana','monterey','montgomery','morgantown','moseslake','muncie','muskegon','myrtlebeach','nacogdoches','nashville','natchez','nd','nesd','newhaven','newjersey','newlondon','neworleans','newyork','nh','nmi','norfolk','northernwi','northmiss','northplatte','nwct','nwga','nwks','ocala','odessa','ogden','okaloosa','oklahomacity','olympic','omaha','oneonta','onslow','orangecounty','oregoncoast','orlando','ottumwa','outerbanks','owensboro','palmsprings','panamacity','parkersburg','pennstate','pensacola','peoria','philadelphia','phoenix','pittsburgh','plattsburgh','poconos','porthuron','portland','potsdam','prescott','providence','provo','pueblo','pullman','quadcities','quincy','racine','raleigh','rapidcity','reading','redding','reno','richmond','richmondin','rmn','roanoke','rochester','rockford','rockies','roseburg','roswell','sacramento','saginaw','salem','salina','saltlakecity','sanangelo','sanantonio','sandiego','sandusky','sanmarcos','santabarbara','santafe','santamaria','sarasota','savannah','scottsbluff','scranton','sd','seattle','seks','semo','sfbay','sheboygan','shoals','showlow','shreveport','sierravista','siouxcity','siouxfalls','siskiyou','skagit','slo','smd','southbend','southcoast','southjersey','spacecoast','spokane','springfield','springfieldil','statesboro','staugustine','stcloud','stgeorge','stillwater','stjoseph','stlouis','stockton','susanville','swks','swmi','swv','swva','syracuse','tallahassee','tampa','terrehaute','texarkana','texoma','thumb','tippecanoe','toledo','topeka','treasure','tricities','tucson','tulsa','tuscaloosa','tuscarawas','twinfalls','twintiers','up','utica','valdosta','ventura','vermont','victoriatx','visalia','waco','washingtondc','waterloo','watertown','wausau','wenatchee','westernmass','westky','westmd','westslope','wheeling','wichita','wichitafalls','williamsport','wilmington','winchester','winstonsalem','worcester','wv','wyoming','yakima','york','youngstown','yubasutter','yuma','zanesville']"
   ]
  },
  {
   "cell_type": "code",
   "execution_count": null,
   "metadata": {},
   "outputs": [],
   "source": [
    "#Search all sites for data\n",
    "start = time.clock()\n",
    "for x in sites:\n",
    "    #search_craigslist_for_cars(x,'porsche 911',1900,1998,1000,30000,False,False,True)\n",
    "    search_craigslist_for_cars(x,'focus impreza mazda3 tsx gti accord miata corolla fit sonic',2013,2018,900,6000,False,False,True)\n",
    "end = time.clock()\n",
    "print(end-start)"
   ]
  },
  {
   "cell_type": "code",
   "execution_count": null,
   "metadata": {},
   "outputs": [],
   "source": [
    "print(\"It took approx \" + color.BOLD + str(round((end-start)/60)) + \" minutes \" + color.END + \"to run this program\")"
   ]
  }
 ],
 "metadata": {
  "kernelspec": {
   "display_name": "Python 3",
   "language": "python",
   "name": "python3"
  },
  "language_info": {
   "codemirror_mode": {
    "name": "ipython",
    "version": 3
   },
   "file_extension": ".py",
   "mimetype": "text/x-python",
   "name": "python",
   "nbconvert_exporter": "python",
   "pygments_lexer": "ipython3",
   "version": "3.6.5"
  }
 },
 "nbformat": 4,
 "nbformat_minor": 2
}
