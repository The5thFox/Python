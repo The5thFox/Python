{
 "cells": [
  {
   "cell_type": "code",
   "execution_count": 77,
   "metadata": {},
   "outputs": [],
   "source": [
    "from craigslist import CraigslistForSale\n",
    "import pandas as pd\n",
    "import webbrowser\n",
    "class color:\n",
    "   BOLD = '\\033[1m'\n",
    "   END = '\\033[0m'"
   ]
  },
  {
   "cell_type": "code",
   "execution_count": 89,
   "metadata": {},
   "outputs": [],
   "source": [
    "def search_craigslist_for_cards(loc,car,minyear,minprice,maxprice,openlinks):\n",
    "    #Pull data\n",
    "    cars = CraigslistForSale(site=loc, area='', category='cars-trucks', \n",
    "                         filters={'min_price': minprice, 'max_price': maxprice, 'min_year':minyear, 'query':car})\n",
    "    #Print Title\n",
    "    print( color.BOLD + \n",
    "          str(cars.filters['min_auto_year']) + ' or newer ' + cars.filters['query'] + ' between ' + \n",
    "          str(cars.filters['min_price']) + ' and ' + str(cars.filters['max_price']) + ' in ' + loc + ' area '\n",
    "    + color.END)\n",
    "    \n",
    "    #Print search results and open websites\n",
    "    for x in cars.get_results():\n",
    "        print('Posted:', x['datetime'], 'Link:' , x['url']) \n",
    "        if openlinks == True:\n",
    "            webbrowser.open(x['url'])\n",
    "    print('')"
   ]
  },
  {
   "cell_type": "code",
   "execution_count": 90,
   "metadata": {},
   "outputs": [
    {
     "name": "stdout",
     "output_type": "stream",
     "text": [
      "\u001b[1m2013 or newer honda accord low miles between 1000 and 8000 in philadelphia area \u001b[0m\n",
      "Posted: 2018-08-31 10:31 Link: https://philadelphia.craigslist.org/cto/d/honda-accord-lx-sedan/6678961869.html\n",
      "Posted: 2018-08-27 11:20 Link: https://philadelphia.craigslist.org/cto/d/2013-honda-accord-sedan-exl-4/6681965844.html\n",
      "\n",
      "\u001b[1m2013 or newer honda civic low miles between 1000 and 8000 in philadelphia area \u001b[0m\n",
      "Posted: 2018-08-20 13:07 Link: https://philadelphia.craigslist.org/cto/d/2004-honda-civic/6676046810.html\n",
      "Posted: 2018-08-15 06:48 Link: https://philadelphia.craigslist.org/cto/d/2013-honda-civic/6671445361.html\n",
      "\n",
      "\u001b[1m2013 or newer Mazda3 low miles between 1000 and 8000 in philadelphia area \u001b[0m\n",
      "Posted: 2018-08-14 22:40 Link: https://philadelphia.craigslist.org/ctd/d/2013-mazda-mazda3-touring-4dr/6671346731.html\n",
      "Posted: 2018-08-14 22:01 Link: https://philadelphia.craigslist.org/ctd/d/2014-mazda-mazda3-sv-4dr/6671326535.html\n",
      "Posted: 2018-08-02 12:31 Link: https://philadelphia.craigslist.org/ctd/d/2013-mazda-mazda3-touring-4dr/6660156514.html\n",
      "\n",
      "\u001b[1m2013 or newer bmw low miles between 1000 and 8000 in philadelphia area \u001b[0m\n",
      "Posted: 2018-08-26 17:56 Link: https://philadelphia.craigslist.org/mcy/d/2014-forty-eight-1200cc/6681523808.html\n",
      "Posted: 2018-08-20 12:57 Link: https://philadelphia.craigslist.org/mcd/d/2015-suzuki-gsx-750-payment/6676039317.html\n",
      "Posted: 2018-08-20 12:51 Link: https://philadelphia.craigslist.org/cto/d/bmw-320i-xdrive/6652443072.html\n",
      "Posted: 2018-08-15 15:23 Link: https://philadelphia.craigslist.org/mcd/d/2014-honda-grom-payment/6671912569.html\n",
      "Posted: 2018-08-06 16:41 Link: https://philadelphia.craigslist.org/mcd/d/2014-honda-grom-financing/6663880174.html\n",
      "Posted: 2018-08-13 10:40 Link: https://philadelphia.craigslist.org/ctd/d/2014-kia-soul-base-100/6669696174.html\n",
      "\n"
     ]
    }
   ],
   "source": [
    "#for the list of sites/location, all lower case, https://www.craigslist.org/about/sites\n",
    "search_craigslist_for_cards('philadelphia','honda accord low miles',2013,1000,8000,False)\n",
    "search_craigslist_for_cards('philadelphia','honda civic low miles' ,2013,1000,8000,False)\n",
    "search_craigslist_for_cards('philadelphia','Mazda3 low miles' ,2013,1000,8000,False)\n",
    "search_craigslist_for_cards('philadelphia','bmw low miles' ,2013,1000,8000,False)"
   ]
  }
 ],
 "metadata": {
  "kernelspec": {
   "display_name": "Python 3",
   "language": "python",
   "name": "python3"
  },
  "language_info": {
   "codemirror_mode": {
    "name": "ipython",
    "version": 3
   },
   "file_extension": ".py",
   "mimetype": "text/x-python",
   "name": "python",
   "nbconvert_exporter": "python",
   "pygments_lexer": "ipython3",
   "version": "3.6.4"
  }
 },
 "nbformat": 4,
 "nbformat_minor": 2
}
