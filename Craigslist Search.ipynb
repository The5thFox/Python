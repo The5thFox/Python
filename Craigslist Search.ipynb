{
 "cells": [
  {
   "cell_type": "code",
   "execution_count": 203,
   "metadata": {},
   "outputs": [],
   "source": [
    "from craigslist import CraigslistForSale\n",
    "import pandas as pd\n",
    "import webbrowser\n",
    "import smtplib\n",
    "class color:\n",
    "   BOLD = '\\033[1m'\n",
    "   END = '\\033[0m'"
   ]
  },
  {
   "cell_type": "code",
   "execution_count": 204,
   "metadata": {},
   "outputs": [],
   "source": [
    "def sendemail(from_addr, to_addr_list, cc_addr_list,\n",
    "              subject, message,\n",
    "              login, password,\n",
    "              smtpserver='smtp.gmail.com:587'):\n",
    "    header  = 'From: %s ' % from_addr + \"\\n\"\n",
    "    header += 'To: %s ' % ','.join(to_addr_list) + \"\\n\"\n",
    "    header += 'Cc: %s ' % ','.join(cc_addr_list) + \"\\n\"\n",
    "    header += 'Subject: %s ' % subject + \"\\n\"\n",
    "    message = header + message\n",
    " \n",
    "    server = smtplib.SMTP(smtpserver)\n",
    "    server.starttls()\n",
    "    server.login(login,password)\n",
    "    problems = server.sendmail(from_addr, to_addr_list, message)\n",
    "    server.quit()\n",
    "\n",
    "def search_craigslist_for_cards(loc,car,minyear,minprice,maxprice,openlinks,email):\n",
    "    msg = ''\n",
    "    #Pull data\n",
    "    cars = CraigslistForSale(site=loc, area='', category='cars-trucks', \n",
    "                         filters={'min_price': minprice, 'max_price': maxprice, 'min_year':minyear, 'query':car})\n",
    "    #Print Title\n",
    "    print( color.BOLD + \n",
    "          str(cars.filters['min_auto_year']) + ' or newer ' + cars.filters['query'] + ' between ' + \n",
    "          str(cars.filters['min_price']) + ' and ' + str(cars.filters['max_price']) + ' in ' + loc + ' area '\n",
    "    + color.END)\n",
    "    \n",
    "    #Print search results and open websites\n",
    "    for x in cars.get_results():\n",
    "        print('Posted:', x['datetime'], 'Link:' , x['url'])\n",
    "        msg += 'Posted: ' + x['datetime'] + ' Link:' + x['url']\n",
    "        if openlinks == True:\n",
    "            webbrowser.open(x['url'])\n",
    "    print('')\n",
    "    \n",
    "    if email == True:\n",
    "        sendemail(from_addr = 'thefifthfox0@gmail.com', \n",
    "        to_addr_list = ['qman2386@gmail.com'],\n",
    "        cc_addr_list = [''], \n",
    "        subject      =  'Three quotes v2', \n",
    "        message      =  msg, \n",
    "        login        = 'thefifthfox0@gmail.com', \n",
    "        password     = 'computerfox')"
   ]
  },
  {
   "cell_type": "code",
   "execution_count": 215,
   "metadata": {},
   "outputs": [
    {
     "name": "stdout",
     "output_type": "stream",
     "text": [
      "\u001b[1m2013 or newer honda accord between 1000 and 8000 in philadelphia area \u001b[0m\n",
      "Posted: 2018-08-31 19:03 Link: https://philadelphia.craigslist.org/cto/d/2014-honda-accord-exl-coupe/6683431526.html\n",
      "Posted: 2018-08-31 12:57 Link: https://philadelphia.craigslist.org/cto/d/rearview-camera-buy-now/6685653871.html\n",
      "Posted: 2018-08-31 10:31 Link: https://philadelphia.craigslist.org/cto/d/honda-accord-lx-sedan/6678961869.html\n",
      "Posted: 2018-08-28 16:02 Link: https://philadelphia.craigslist.org/cto/d/need-stubs-professional-pay/6683197373.html\n",
      "Posted: 2018-08-27 11:20 Link: https://philadelphia.craigslist.org/cto/d/2013-honda-accord-sedan-exl-4/6681965844.html\n",
      "Posted: 2018-08-19 13:36 Link: https://philadelphia.craigslist.org/cto/d/gorgeous-2013-honda-civic/6659725482.html\n",
      "\n",
      "\u001b[1m2013 or newer honda civic between 1000 and 8000 in philadelphia area \u001b[0m\n",
      "Posted: 2018-08-27 06:43 Link: https://philadelphia.craigslist.org/cto/d/2015-honda-civic-lx/6674468876.html\n",
      "Posted: 2018-08-20 13:07 Link: https://philadelphia.craigslist.org/cto/d/2004-honda-civic/6676046810.html\n",
      "Posted: 2018-08-19 13:36 Link: https://philadelphia.craigslist.org/cto/d/gorgeous-2013-honda-civic/6659725482.html\n",
      "Posted: 2018-08-15 06:48 Link: https://philadelphia.craigslist.org/cto/d/2013-honda-civic/6671445361.html\n",
      "Posted: 2018-08-11 15:19 Link: https://philadelphia.craigslist.org/ctd/d/2013-honda-civic-ex-4dr-sedan/6668402698.html\n",
      "Posted: 2018-08-27 09:37 Link: https://philadelphia.craigslist.org/ctd/d/2018-bri-mar-ch18-10-full/6681903885.html\n",
      "Posted: 2018-08-14 20:34 Link: https://philadelphia.craigslist.org/ctd/d/2018-bri-mar-dump-trailer/6671272441.html\n",
      "\n",
      "\u001b[1m2013 or newer Mazda3 between 1000 and 8000 in philadelphia area \u001b[0m\n",
      "Posted: 2018-08-28 20:18 Link: https://philadelphia.craigslist.org/ctd/d/2014-mazda-mazda3-sv-4dr/6683518082.html\n",
      "Posted: 2018-08-14 22:40 Link: https://philadelphia.craigslist.org/ctd/d/2013-mazda-mazda3-touring-4dr/6671346731.html\n",
      "Posted: 2018-08-14 22:01 Link: https://philadelphia.craigslist.org/ctd/d/2014-mazda-mazda3-sv-4dr/6671326535.html\n",
      "Posted: 2018-08-02 12:31 Link: https://philadelphia.craigslist.org/ctd/d/2013-mazda-mazda3-touring-4dr/6660156514.html\n",
      "\n",
      "\u001b[1m2013 or newer bmw between 1000 and 8000 in philadelphia area \u001b[0m\n",
      "Posted: 2018-08-20 12:51 Link: https://philadelphia.craigslist.org/cto/d/bmw-320i-xdrive/6652443072.html\n",
      "Posted: 2018-09-01 09:06 Link: https://philadelphia.craigslist.org/mcd/d/2014-royal-enfield/6686379654.html\n",
      "Posted: 2018-08-30 02:30 Link: https://philadelphia.craigslist.org/mcy/d/triumph-daytona-675r/6684548122.html\n",
      "Posted: 2018-08-28 17:49 Link: https://philadelphia.craigslist.org/mcd/d/2015-honda-pcx150/6683399251.html\n",
      "Posted: 2018-08-27 10:39 Link: https://philadelphia.craigslist.org/ctd/d/2013-volkswagen-jetta-se-100/6681962719.html\n",
      "Posted: 2018-08-26 17:56 Link: https://philadelphia.craigslist.org/mcy/d/2014-forty-eight-1200cc/6681523808.html\n",
      "Posted: 2018-08-24 20:18 Link: https://philadelphia.craigslist.org/ctd/d/2014-fiat-500-sport-1-owner/6680103054.html\n",
      "Posted: 2018-08-24 14:41 Link: https://philadelphia.craigslist.org/ctd/d/2013-dodge-dart-se-6-speed/6679786776.html\n",
      "Posted: 2018-08-22 09:26 Link: https://philadelphia.craigslist.org/mcd/d/2016-triumph-street-twin/6677669646.html\n",
      "Posted: 2018-08-21 14:23 Link: https://philadelphia.craigslist.org/mcd/d/2014-kawasaki-ninja-300/6677084454.html\n",
      "Posted: 2018-08-21 13:53 Link: https://philadelphia.craigslist.org/mcd/d/2014-yamaha-vstar-950/6677049683.html\n",
      "Posted: 2018-08-20 12:57 Link: https://philadelphia.craigslist.org/mcd/d/2015-suzuki-gsx-750-payment/6676039317.html\n",
      "Posted: 2018-08-18 19:14 Link: https://philadelphia.craigslist.org/mcy/d/clean-2013-aprilia-rsv4r/6672193895.html\n",
      "Posted: 2018-08-15 15:23 Link: https://philadelphia.craigslist.org/mcd/d/2014-honda-grom-payment/6671912569.html\n",
      "Posted: 2018-08-15 11:42 Link: https://philadelphia.craigslist.org/ctd/d/2013-volkswagen-jetta-wagon/6671656233.html\n",
      "Posted: 2018-08-13 10:40 Link: https://philadelphia.craigslist.org/ctd/d/2014-kia-soul-base-100/6669696174.html\n",
      "Posted: 2018-08-11 09:20 Link: https://philadelphia.craigslist.org/mcd/d/2015-triumph-street-triple/6668036268.html\n",
      "Posted: 2018-08-07 21:59 Link: https://philadelphia.craigslist.org/cto/d/2013-fiat-500-abarth-turbo/6642720224.html\n",
      "Posted: 2018-08-06 16:41 Link: https://philadelphia.craigslist.org/mcd/d/2014-honda-grom-financing/6663880174.html\n",
      "\n"
     ]
    }
   ],
   "source": [
    "#for the list of sites/location, all lower case, https://www.craigslist.org/about/sites\n",
    "search_craigslist_for_cards('philadelphia','honda accord',2013,1000,8000,True,False)\n",
    "search_craigslist_for_cards('philadelphia','honda civic' ,2013,1000,8000,True,False)\n",
    "search_craigslist_for_cards('philadelphia','Mazda3' ,2013,1000,8000,True,False)\n",
    "search_craigslist_for_cards('philadelphia','bmw' ,2013,1000,8000,True,False)"
   ]
  },
  {
   "cell_type": "code",
   "execution_count": 125,
   "metadata": {},
   "outputs": [],
   "source": []
  }
 ],
 "metadata": {
  "kernelspec": {
   "display_name": "Python 3",
   "language": "python",
   "name": "python3"
  },
  "language_info": {
   "codemirror_mode": {
    "name": "ipython",
    "version": 3
   },
   "file_extension": ".py",
   "mimetype": "text/x-python",
   "name": "python",
   "nbconvert_exporter": "python",
   "pygments_lexer": "ipython3",
   "version": "3.6.4"
  }
 },
 "nbformat": 4,
 "nbformat_minor": 2
}
